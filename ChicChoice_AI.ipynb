{
  "nbformat": 4,
  "nbformat_minor": 0,
  "metadata": {
    "colab": {
      "provenance": [],
      "authorship_tag": "ABX9TyOmJMuLUuWAPq0xXEl9ykJi",
      "include_colab_link": true
    },
    "kernelspec": {
      "name": "python3",
      "display_name": "Python 3"
    },
    "language_info": {
      "name": "python"
    }
  },
  "cells": [
    {
      "cell_type": "markdown",
      "metadata": {
        "id": "view-in-github",
        "colab_type": "text"
      },
      "source": [
        "<a href=\"https://colab.research.google.com/github/SondiSohan/AI---SHOPPING-ASSISTANT-ChicChoice-AI-/blob/main/ChicChoice_AI.ipynb\" target=\"_parent\"><img src=\"https://colab.research.google.com/assets/colab-badge.svg\" alt=\"Open In Colab\"/></a>"
      ]
    },
    {
      "cell_type": "markdown",
      "source": [
        "# Here’s how the code fits into an AI shopping assistant workflow:\n"
      ],
      "metadata": {
        "id": "9aZrxPOfjYK_"
      }
    },
    {
      "cell_type": "markdown",
      "source": [
        "# To achieve the code for an AI shopping assistant with the capability to recommend products based on user input, you can follow these steps:\n",
        "Define the Features:\n",
        "\n",
        "Identify the key features and functionalities of your AI shopping assistant, such as greeting users, listing items in different categories, recommending products, and bidding farewell.\n",
        "* Set Up the Environment:\n",
        "Ensure you have a Python environment set up on your system. You may use Anaconda or pip for package management.\n",
        "* Install Required Libraries:\n",
        "\n",
        "Install necessary libraries such as pandas, numpy, scikit-learn, nltk, and others using pip or conda.\n",
        "* Create a Class for the Assistant:\n",
        "\n",
        "Define a Python class for the shopping assistant. Within this class, define methods for greeting, bidding farewell, listing items, and recommending products.\n",
        " * Implement Methods:\n",
        "\n",
        "Implement methods within the class for greeting users, bidding farewell, listing items in different categories, and recommending products based on user input.\n",
        "* Generate Synthetic Datasets:\n",
        "\n",
        "Create synthetic datasets for user interactions, product details, and reviews. This can be done using tools like pandas to generate random data for testing purposes.\n",
        "* Preprocess Data:\n",
        "\n",
        "Preprocess the generated datasets as needed, such as merging, scaling, and splitting into training and testing sets.\n",
        "* Build Recommendation System:\n",
        "\n",
        "Utilize machine learning techniques (e.g., Nearest Neighbors) to build a recommendation system based on user interactions and product details.\n",
        " * Train Chatbot Model:\n",
        "\n",
        "Train a chatbot model using natural language processing (NLP) techniques. Use tools like nltk for tokenization and scikit-learn for text vectorization.\n",
        "* Integrate Assistant and Recommendation System:\n",
        "\n",
        "Integrate the recommendation system and chatbot model within the shopping assistant class. This allows the assistant to provide personalized product recommendations based on user input.\n",
        "* Test the Code:\n",
        "\n",
        "Test the implemented code by interacting with the assistant. Provide various user inputs and verify if the assistant responds correctly with relevant product recommendations.\n",
        "* Optimize and Iterate:\n",
        "\n",
        "Refine and optimize the code as needed based on testing results. Iterate on the implementation to enhance performance, accuracy, and user experience.\n",
        "* Deploy the Assistant:\n",
        "\n",
        "Once satisfied with the functionality and performance, consider deploying the AI shopping assistant to a suitable platform for public or private use.\n"
      ],
      "metadata": {
        "id": "x41pvAzLQHjo"
      }
    },
    {
      "cell_type": "code",
      "source": [
        "import random\n",
        "import json\n",
        "\n",
        "class ShoppingAssistant:\n",
        "    def __init__(self):\n",
        "        self.greetings = [\n",
        "            \"Hi there! How can I assist you today?\",\n",
        "            \"Hello! What can I help you find?\",\n",
        "            \"Welcome! What are you looking for today?\",\n",
        "            \"Hey! Ready to find something awesome?\",\n",
        "            \"Greetings! How can I enhance your shopping experience today?\"\n",
        "        ]\n",
        "        self.goodbyes = [\n",
        "            \"Goodbye! Have a great day!\",\n",
        "            \"See you later! Happy shopping!\",\n",
        "            \"Until next time! Take care.\",\n",
        "            \"Bye! Hope to assist you again soon!\",\n",
        "            \"Farewell! Enjoy your shopping.\"\n",
        "        ]\n",
        "        self.products = {\n",
        "            \"electronics\": {\n",
        "                \"smartphone\": \"https://example.com/smartphone\",\n",
        "                \"laptop\": \"https://example.com/laptop\",\n",
        "                \"headphones\": \"https://example.com/headphones\",\n",
        "                \"camera\": \"https://example.com/camera\"\n",
        "            },\n",
        "            \"clothing\": {\n",
        "                \"t-shirt\": \"https://example.com/t-shirt\",\n",
        "                \"jeans\": \"https://example.com/jeans\",\n",
        "                \"dress\": \"https://example.com/dress\",\n",
        "                \"shoes\": \"https://example.com/shoes\"\n",
        "            },\n",
        "            \"home\": {\n",
        "                \"furniture\": \"https://example.com/furniture\",\n",
        "                \"kitchen appliances\": \"https://example.com/kitchen-appliances\",\n",
        "                \"decor\": \"https://example.com/decor\",\n",
        "                \"bedding\": \"https://example.com/bedding\"\n",
        "            }\n",
        "        }\n",
        "        # Initialize user_history from a file\n",
        "        self.user_history = self.load_user_history()\n",
        "\n",
        "    def load_user_history(self):\n",
        "        try:\n",
        "            with open(\"/content/user_history.json\", \"r\") as file:\n",
        "                return json.load(file)\n",
        "        except FileNotFoundError:\n",
        "            return {}\n",
        "\n",
        "    def save_user_history(self):\n",
        "        with open(\"/content/user_history.json\", \"w\") as file:\n",
        "            json.dump(self.user_history, file)\n",
        "\n",
        "    def greet(self):\n",
        "        return random.choice(self.greetings)\n",
        "\n",
        "    def farewell(self):\n",
        "        return random.choice(self.goodbyes)\n",
        "\n",
        "    def list_items(self, category):\n",
        "        if category in self.products:\n",
        "            items = list(self.products[category].keys())\n",
        "            return items\n",
        "        else:\n",
        "            return None\n",
        "\n",
        "    def recommend_product(self, category, item):\n",
        "        if category in self.products and item in self.products[category]:\n",
        "            product_link = self.products[category][item]\n",
        "            return f\"I recommend a {item}. You can find it here: [View {item}]({product_link}).\"\n",
        "        else:\n",
        "            return \"Sorry, I don't have recommendations for that item. Please try another item.\"\n",
        "\n",
        "    def update_history(self, category, item):\n",
        "        if category in self.user_history:\n",
        "            if item in self.user_history[category]:\n",
        "                self.user_history[category][item] += 1\n",
        "            else:\n",
        "                self.user_history[category][item] = 1\n",
        "        else:\n",
        "            self.user_history[category] = {item: 1}\n",
        "        # Save user history to file after update\n",
        "        self.save_user_history()\n",
        "\n",
        "    def chat(self):\n",
        "        print(self.greet())\n",
        "        while True:\n",
        "            user_input = input(\"You: \").strip().lower()\n",
        "            if user_input == \"exit\":\n",
        "                print(self.farewell())\n",
        "                break\n",
        "            elif \"hi\" in user_input or \"hello\" in user_input:\n",
        "                print(\"Assistant:\", self.greet())\n",
        "                category = input(\"What category are you interested in? (e.g., electronics, clothing, home) \").strip().lower()\n",
        "                items = self.list_items(category)\n",
        "                if items:\n",
        "                    print(f\"Here are some items in the {category} category: {', '.join(items)}\")\n",
        "                    item = input(\"Which item would you like to know more about? \").strip().lower()\n",
        "                    print(\"Assistant:\", self.recommend_product(category, item))\n",
        "                    self.update_history(category, item)\n",
        "                else:\n",
        "                    print(\"Assistant: I'm sorry, I don't have any recommendations for that category.\")\n",
        "            else:\n",
        "                print(\"Assistant: I'm sorry, I didn't understand that. Please greet me first or type 'exit' to leave the chat.\")\n",
        "\n",
        "# Example usage\n",
        "if __name__ == \"__main__\":\n",
        "    assistant = ShoppingAssistant()\n",
        "    assistant.chat()\n"
      ],
      "metadata": {
        "colab": {
          "base_uri": "https://localhost:8080/"
        },
        "id": "TTEc8SIOMaj4",
        "outputId": "d49a529c-15ab-435c-9612-beeb53bd076e"
      },
      "execution_count": 15,
      "outputs": [
        {
          "output_type": "stream",
          "name": "stdout",
          "text": [
            "Hey! Ready to find something awesome?\n",
            "You: hi\n",
            "Assistant: Hello! What can I help you find?\n",
            "What category are you interested in? (e.g., electronics, clothing, home) clothing\n",
            "Here are some items in the clothing category: t-shirt, jeans, dress, shoes\n",
            "Which item would you like to know more about? jeans\n",
            "Assistant: I recommend a jeans. You can find it here: [View jeans](https://example.com/jeans).\n",
            "You: exit\n",
            "Until next time! Take care.\n"
          ]
        }
      ]
    }
  ]
}