{
  "nbformat": 4,
  "nbformat_minor": 0,
  "metadata": {
    "colab": {
      "provenance": [],
      "authorship_tag": "ABX9TyN+MTBymmbeT66Rm8HvMQta",
      "include_colab_link": true
    },
    "kernelspec": {
      "name": "python3",
      "display_name": "Python 3"
    },
    "language_info": {
      "name": "python"
    }
  },
  "cells": [
    {
      "cell_type": "markdown",
      "metadata": {
        "id": "view-in-github",
        "colab_type": "text"
      },
      "source": [
        "<a href=\"https://colab.research.google.com/github/SondiSohan/AI---SHOPPING-ASSISTANT-ChicChoice-AI-/blob/main/ChicChoice_AI.ipynb\" target=\"_parent\"><img src=\"https://colab.research.google.com/assets/colab-badge.svg\" alt=\"Open In Colab\"/></a>"
      ]
    },
    {
      "cell_type": "markdown",
      "source": [
        "#synthetic dataset, including the generation of purchase data and saving it to a CSV file"
      ],
      "metadata": {
        "id": "9xWKpYjFgnkj"
      }
    },
    {
      "cell_type": "code",
      "source": [
        "import pandas as pd\n",
        "import numpy as np\n",
        "\n",
        "# Set random seed for reproducibility\n",
        "np.random.seed(42)\n",
        "\n",
        "# Parameters for dataset\n",
        "num_users = 10000\n",
        "num_items = 500\n",
        "num_interactions = 100000\n",
        "\n",
        "# Generate user data\n",
        "user_ids = np.random.choice(range(1, num_users + 1), num_interactions)\n",
        "ages = np.random.randint(18, 70, num_interactions)\n",
        "genders = np.random.choice(['Male', 'Female'], num_interactions)\n",
        "\n",
        "# Generate browsing and purchase data\n",
        "browsing_history = np.random.randint(1, 100, num_interactions)\n",
        "previous_purchases = np.random.randint(0, 50, num_interactions)\n",
        "\n",
        "# Generate item data\n",
        "item_ids = np.random.choice(range(1, num_items + 1), num_interactions)\n",
        "item_categories = np.random.choice(['Tops', 'Bottoms', 'Dresses', 'Outerwear', 'Accessories'], num_interactions)\n",
        "item_prices = np.round(np.random.uniform(10, 500, num_interactions), 2)\n",
        "item_colors = np.random.choice(['Red', 'Blue', 'Green', 'Black', 'White'], num_interactions)\n",
        "item_sizes = np.random.choice(['XS', 'S', 'M', 'L', 'XL'], num_interactions)\n",
        "\n",
        "# Generate purchase data\n",
        "purchase = np.random.choice([0, 1], num_interactions, p=[0.8, 0.2])  # Assuming 20% purchase rate\n",
        "\n",
        "# Create DataFrame\n",
        "data = pd.DataFrame({\n",
        "    'user_id': user_ids,\n",
        "    'age': ages,\n",
        "    'gender': genders,\n",
        "    'browsing_history': browsing_history,\n",
        "    'previous_purchases': previous_purchases,\n",
        "    'item_id': item_ids,\n",
        "    'item_category': item_categories,\n",
        "    'item_price': item_prices,\n",
        "    'item_color': item_colors,\n",
        "    'item_size': item_sizes,\n",
        "    'purchase': purchase\n",
        "})\n",
        "\n",
        "# Save to CSV\n",
        "data.to_csv('ai_shopping_assistant_data.csv', index=False)\n",
        "\n",
        "print(\"Dataset generated and saved as 'ai_shopping_assistant_data.csv'\")\n"
      ],
      "metadata": {
        "colab": {
          "base_uri": "https://localhost:8080/"
        },
        "id": "xPjbJoPag7fe",
        "outputId": "d5c1ac2f-ccf1-4c6d-bef4-bd558fa6631c"
      },
      "execution_count": 3,
      "outputs": [
        {
          "output_type": "stream",
          "name": "stdout",
          "text": [
            "Dataset generated and saved as 'ai_shopping_assistant_data.csv'\n"
          ]
        }
      ]
    },
    {
      "cell_type": "markdown",
      "source": [
        "# Steps Involved:\n",
        "\n",
        "---\n",
        "*  Data Collection: Collect user interaction data including demographics, browsing history, previous purchases, and item details.\n",
        "* Data Preprocessing: Clean and preprocess the data to make it suitable for training machine learning models.\n",
        "* Model Training: Train a machine learning model to predict user behavior, such as whether they will make a purchase.\n",
        "* Model Evaluation: Evaluate the performance of the trained model to ensure it provides accurate predictions.\n",
        "* Integration: Integrate the trained model into the shopping assistant application to provide personalized recommendations and improve user experience.\n",
        "\n"
      ],
      "metadata": {
        "id": "7FqvIeAEibIk"
      }
    },
    {
      "cell_type": "markdown",
      "source": [
        "# Here’s how the code fits into an AI shopping assistant workflow:\n"
      ],
      "metadata": {
        "id": "9aZrxPOfjYK_"
      }
    },
    {
      "cell_type": "code",
      "source": [
        "import pandas as pd\n",
        "from sklearn.model_selection import train_test_split\n",
        "from sklearn.ensemble import RandomForestClassifier\n",
        "from sklearn.preprocessing import OneHotEncoder, StandardScaler\n",
        "from sklearn.compose import ColumnTransformer\n",
        "from sklearn.pipeline import Pipeline\n",
        "from sklearn.impute import SimpleImputer\n",
        "\n",
        "# Function to preprocess data\n",
        "def preprocess_data(data):\n",
        "    # Identify categorical and numerical columns\n",
        "    categorical_features = ['gender', 'item_category', 'item_color', 'item_size']\n",
        "    numerical_features = ['age', 'browsing_history', 'previous_purchases', 'item_price']\n",
        "\n",
        "    # Preprocessing for numerical data\n",
        "    numerical_transformer = Pipeline(steps=[\n",
        "        ('imputer', SimpleImputer(strategy='median')),\n",
        "        ('scaler', StandardScaler())\n",
        "    ])\n",
        "\n",
        "    # Preprocessing for categorical data\n",
        "    categorical_transformer = Pipeline(steps=[\n",
        "        ('imputer', SimpleImputer(strategy='most_frequent')),\n",
        "        ('onehot', OneHotEncoder(handle_unknown='ignore'))\n",
        "    ])\n",
        "\n",
        "    # Bundle preprocessing for numerical and categorical data\n",
        "    preprocessor = ColumnTransformer(\n",
        "        transformers=[\n",
        "            ('num', numerical_transformer, numerical_features),\n",
        "            ('cat', categorical_transformer, categorical_features)\n",
        "        ])\n",
        "\n",
        "    # Preprocess data\n",
        "    data_preprocessed = preprocessor.fit_transform(data)\n",
        "\n",
        "    return data_preprocessed, preprocessor\n",
        "\n",
        "# Load data\n",
        "data = pd.read_csv('ai_shopping_assistant_data.csv')\n",
        "\n",
        "# Ensure the target variable is binary\n",
        "if not all(data['purchase'].isin([0, 1])):\n",
        "    raise ValueError(\"Target variable 'purchase' contains non-binary values\")\n",
        "\n",
        "# Preprocess data\n",
        "X = data.drop('purchase', axis=1)\n",
        "y = data['purchase']\n",
        "\n",
        "# Apply preprocessing\n",
        "X_preprocessed, preprocessor = preprocess_data(X)\n",
        "\n",
        "# Split data into training and testing sets\n",
        "X_train, X_test, y_train, y_test = train_test_split(X_preprocessed, y, test_size=0.2, random_state=42)\n",
        "\n",
        "# Train model\n",
        "model = RandomForestClassifier(n_estimators=100, random_state=42)\n",
        "model.fit(X_train, y_train)\n",
        "\n",
        "# Evaluate model\n",
        "accuracy = model.score(X_test, y_test)\n",
        "print(f'Accuracy: {accuracy}')\n",
        "\n",
        "# Predicting purchase for a new user interaction\n",
        "new_interaction = pd.DataFrame({\n",
        "    'age': [25],\n",
        "    'gender': ['Female'],\n",
        "    'browsing_history': [30],\n",
        "    'previous_purchases': [5],\n",
        "    'item_category': ['Tops'],\n",
        "    'item_price': [50.00],\n",
        "    'item_color': ['Red'],\n",
        "    'item_size': ['M']\n",
        "})\n",
        "\n",
        "# Preprocess the new interaction data\n",
        "new_interaction_preprocessed = preprocessor.transform(new_interaction)\n",
        "\n",
        "# Predict purchase probability\n",
        "purchase_prediction = model.predict(new_interaction_preprocessed)\n",
        "purchase_probability = model.predict_proba(new_interaction_preprocessed)[:, 1]\n",
        "\n",
        "print(f'Purchase Prediction: {purchase_prediction[0]}')\n",
        "print(f'Purchase Probability: {purchase_probability[0]}')\n"
      ],
      "metadata": {
        "colab": {
          "base_uri": "https://localhost:8080/"
        },
        "id": "vFwmwVWejiWU",
        "outputId": "cde0919c-64b1-458b-c64e-5a048699708a"
      },
      "execution_count": 4,
      "outputs": [
        {
          "output_type": "stream",
          "name": "stdout",
          "text": [
            "Accuracy: 0.7968\n",
            "Purchase Prediction: 0\n",
            "Purchase Probability: 0.22\n"
          ]
        }
      ]
    }
  ]
}